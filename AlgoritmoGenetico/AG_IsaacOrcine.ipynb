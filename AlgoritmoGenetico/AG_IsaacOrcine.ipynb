{
  "nbformat": 4,
  "nbformat_minor": 0,
  "metadata": {
    "colab": {
      "provenance": []
    },
    "kernelspec": {
      "name": "python3",
      "display_name": "Python 3"
    },
    "language_info": {
      "name": "python"
    }
  },
  "cells": [
    {
      "cell_type": "code",
      "source": [
        "import numpy as np\n",
        "import random"
      ],
      "metadata": {
        "id": "F8vzEM73Iy9T"
      },
      "execution_count": null,
      "outputs": []
    },
    {
      "cell_type": "markdown",
      "source": [
        "Função objetivo"
      ],
      "metadata": {
        "id": "hHy7296gI004"
      }
    },
    {
      "cell_type": "code",
      "source": [
        "def funcao_objetivo(x):\n",
        "    x_decimal = int(''.join(x), 2)\n",
        "    x_scaled = -10 + x_decimal * (20 / (2 ** len(x) - 1))\n",
        "    return x_scaled ** 2 - 3 * x_scaled + 4"
      ],
      "metadata": {
        "id": "S0d988sRI4Ex"
      },
      "execution_count": null,
      "outputs": []
    },
    {
      "cell_type": "markdown",
      "source": [
        "Função para calcular o fitness"
      ],
      "metadata": {
        "id": "12E4GqJ1I65g"
      }
    },
    {
      "cell_type": "code",
      "source": [
        "def calcular_fitness(populacao):\n",
        "    fitness = [funcao_objetivo(individuo) for individuo in populacao]\n",
        "    return fitness"
      ],
      "metadata": {
        "id": "oZ8PY9tYI8oI"
      },
      "execution_count": null,
      "outputs": []
    },
    {
      "cell_type": "markdown",
      "source": [
        "Conversão de binário para decimal"
      ],
      "metadata": {
        "id": "HsXrI82EJAuY"
      }
    },
    {
      "cell_type": "code",
      "source": [
        "def binario_para_decimal_ajustado(individuo):\n",
        "    x_decimal = int(''.join(individuo), 2)\n",
        "    x_scaled = -10 + x_decimal * (20 / (2 ** len(individuo) - 1))\n",
        "    return x_scaled"
      ],
      "metadata": {
        "id": "4ut0-o6oJEgF"
      },
      "execution_count": null,
      "outputs": []
    },
    {
      "cell_type": "markdown",
      "source": [
        "Inicialização da população com valores no intervalo"
      ],
      "metadata": {
        "id": "FgzRCfhfJHHS"
      }
    },
    {
      "cell_type": "code",
      "source": [
        "def inicializar_populacao(num_individuos, num_bits):\n",
        "    populacao = []\n",
        "    for _ in range(num_individuos):\n",
        "        decimal_x = gerar_valor_no_intervalo()\n",
        "        bin_x = bin(int((decimal_x + 10) / 20 * (2 ** num_bits)))[2:].zfill(num_bits)\n",
        "        populacao.append(list(bin_x))\n",
        "    return populacao"
      ],
      "metadata": {
        "id": "DAlnrIrVJJFD"
      },
      "execution_count": null,
      "outputs": []
    },
    {
      "cell_type": "markdown",
      "source": [
        "Mutação"
      ],
      "metadata": {
        "id": "-EeQtpLxJMG7"
      }
    },
    {
      "cell_type": "code",
      "source": [
        "def mutacao(individuo, taxa_mutacao):\n",
        "    for i in range(len(individuo)):\n",
        "        if random.random() < taxa_mutacao:\n",
        "            individuo[i] = '0' if individuo[i] == '1' else '1'\n",
        "    return individuo"
      ],
      "metadata": {
        "id": "bWz95pGCJNtL"
      },
      "execution_count": null,
      "outputs": []
    },
    {
      "cell_type": "markdown",
      "source": [
        "Crossover"
      ],
      "metadata": {
        "id": "NcjVcvEbJQg3"
      }
    },
    {
      "cell_type": "code",
      "source": [
        "def crossover(pai, mae, taxa_crossover):\n",
        "    if random.random() < taxa_crossover:\n",
        "        ponto_crossover = random.randint(1, len(pai) - 1)\n",
        "        filho_1 = pai[:ponto_crossover] + mae[ponto_crossover:]\n",
        "        filho_2 = mae[:ponto_crossover] + pai[ponto_crossover:]\n",
        "        return filho_1, filho_2\n",
        "    return pai, mae"
      ],
      "metadata": {
        "id": "a1GWw3ZnJTIp"
      },
      "execution_count": null,
      "outputs": []
    },
    {
      "cell_type": "markdown",
      "source": [
        "Seleção por torneio"
      ],
      "metadata": {
        "id": "C5t1rwDBJU5u"
      }
    },
    {
      "cell_type": "code",
      "source": [
        "def selecao_por_torneio(populacao, num_participantes):\n",
        "    participantes = random.sample(populacao, num_participantes)\n",
        "    return max(participantes, key=funcao_objetivo)"
      ],
      "metadata": {
        "id": "vGiHgf9TJWch"
      },
      "execution_count": null,
      "outputs": []
    },
    {
      "cell_type": "markdown",
      "source": [
        "Ajuste de limites"
      ],
      "metadata": {
        "id": "zBCh6591JY-G"
      }
    },
    {
      "cell_type": "code",
      "source": [
        "def ajustar_limites(valor):\n",
        "    if valor >= 10:\n",
        "        return 10\n",
        "    elif valor <= -10:\n",
        "        return -10\n",
        "    return valor"
      ],
      "metadata": {
        "id": "rSkIaWx9Ja4f"
      },
      "execution_count": null,
      "outputs": []
    },
    {
      "cell_type": "markdown",
      "source": [
        "Geração de valores no intervalo"
      ],
      "metadata": {
        "id": "eI-CAz3eJd8P"
      }
    },
    {
      "cell_type": "code",
      "source": [
        "def gerar_valor_no_intervalo():\n",
        "    return random.uniform(-10, 10)"
      ],
      "metadata": {
        "id": "MIfacjbXJfqR"
      },
      "execution_count": null,
      "outputs": []
    },
    {
      "cell_type": "markdown",
      "source": [
        "Algoritmo Genético"
      ],
      "metadata": {
        "id": "SlQPxi0AJibB"
      }
    },
    {
      "cell_type": "code",
      "source": [
        "def algoritmo_genetico(num_individuos, num_geracoes, taxa_mutacao, taxa_crossover, num_bits):\n",
        "    populacao = inicializar_populacao(num_individuos, num_bits)\n",
        "\n",
        "    for geracao in range(num_geracoes):\n",
        "        fitness = calcular_fitness(populacao)\n",
        "        melhores_individuos = [(funcao_objetivo(individuo), binario_para_decimal_ajustado(individuo)) for individuo in populacao]\n",
        "        melhor_individuo = max(melhores_individuos, key=lambda x: x[0])\n",
        "\n",
        "        print(\"\\nGeração:\", geracao + 1)\n",
        "        print(\"Melhor Indivíduo Encontrado (X):\", ajustar_limites(melhor_individuo[1]))\n",
        "        print(\"Valor Máximo da Função Objetivo:\", melhor_individuo[0])\n",
        "\n",
        "        print(\"População (em decimal):\")\n",
        "        populacao_decimal = [binario_para_decimal_ajustado(individuo) for individuo in populacao]\n",
        "        print(populacao_decimal)\n",
        "\n",
        "        nova_populacao = []\n",
        "\n",
        "        while len(nova_populacao) < num_individuos:\n",
        "            pai_1 = selecao_por_torneio(populacao, 3)\n",
        "            pai_2 = selecao_por_torneio(populacao, 3)\n",
        "            filho_1, filho_2 = crossover(pai_1, pai_2, taxa_crossover)\n",
        "            filho_1 = mutacao(filho_1, taxa_mutacao)\n",
        "            filho_2 = mutacao(filho_2, taxa_mutacao)\n",
        "            nova_populacao.extend([filho_1, filho_2])\n",
        "\n",
        "        populacao = nova_populacao\n",
        "\n",
        "    melhores_individuos = [(funcao_objetivo(individuo), binario_para_decimal_ajustado(individuo)) for individuo in populacao]\n",
        "    melhor_individuo = max(melhores_individuos, key=lambda x: x[0])\n",
        "\n",
        "    print(\"\\nMelhor Indivíduo Encontrado (X):\", ajustar_limites(melhor_individuo[1]))\n",
        "    print(\"Valor Máximo da Função Objetivo:\", melhor_individuo[0])"
      ],
      "metadata": {
        "id": "3PQAm6RMJlyR"
      },
      "execution_count": null,
      "outputs": []
    },
    {
      "cell_type": "markdown",
      "source": [
        "Parâmetros configuráveis"
      ],
      "metadata": {
        "id": "64HfQeakJo-Y"
      }
    },
    {
      "cell_type": "code",
      "source": [
        "num_individuos = 4\n",
        "num_geracoes = 5\n",
        "taxa_mutacao = 0.01\n",
        "taxa_crossover = 0.7\n",
        "num_bits = 8"
      ],
      "metadata": {
        "id": "34nyzpS1JrI4"
      },
      "execution_count": null,
      "outputs": []
    },
    {
      "cell_type": "markdown",
      "source": [
        "Execução do Algoritmo Genético"
      ],
      "metadata": {
        "id": "fG-rZ6s6Jt0z"
      }
    },
    {
      "cell_type": "code",
      "source": [
        "algoritmo_genetico(num_individuos, num_geracoes, taxa_mutacao, taxa_crossover, num_bits)"
      ],
      "metadata": {
        "colab": {
          "base_uri": "https://localhost:8080/"
        },
        "id": "FAyYFlgFFb_M",
        "outputId": "5b438939-677d-4fc4-b5b8-b7e9f9b7885a"
      },
      "execution_count": null,
      "outputs": [
        {
          "output_type": "stream",
          "name": "stdout",
          "text": [
            "\n",
            "Geração: 1\n",
            "Melhor Indivíduo Encontrado (X): -8.274509803921568\n",
            "Valor Máximo da Função Objetivo: 97.29104190695884\n",
            "População (em decimal):\n",
            "[-0.6666666666666661, 0.19607843137254832, -8.274509803921568, 6.862745098039216]\n",
            "\n",
            "Geração: 2\n",
            "Melhor Indivíduo Encontrado (X): -8.274509803921568\n",
            "Valor Máximo da Função Objetivo: 97.29104190695884\n",
            "População (em decimal):\n",
            "[-8.274509803921568, -8.274509803921568, -8.274509803921568, -8.274509803921568]\n",
            "\n",
            "Geração: 3\n",
            "Melhor Indivíduo Encontrado (X): -8.274509803921568\n",
            "Valor Máximo da Função Objetivo: 97.29104190695884\n",
            "População (em decimal):\n",
            "[-7.647058823529411, -8.274509803921568, -8.274509803921568, -8.274509803921568]\n",
            "\n",
            "Geração: 4\n",
            "Melhor Indivíduo Encontrado (X): -9.529411764705882\n",
            "Valor Máximo da Função Objetivo: 123.39792387543253\n",
            "População (em decimal):\n",
            "[-9.529411764705882, -8.274509803921568, -8.274509803921568, -8.274509803921568]\n",
            "\n",
            "Geração: 5\n",
            "Melhor Indivíduo Encontrado (X): -9.529411764705882\n",
            "Valor Máximo da Função Objetivo: 123.39792387543253\n",
            "População (em decimal):\n",
            "[-9.529411764705882, -9.529411764705882, -8.274509803921568, -8.274509803921568]\n",
            "\n",
            "Melhor Indivíduo Encontrado (X): -9.529411764705882\n",
            "Valor Máximo da Função Objetivo: 123.39792387543253\n"
          ]
        }
      ]
    }
  ]
}